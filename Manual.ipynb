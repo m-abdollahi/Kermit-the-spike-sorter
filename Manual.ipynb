{
 "cells": [
  {
   "cell_type": "markdown",
   "id": "7eb65152-b49c-49db-a56a-8b951b75ae6f",
   "metadata": {},
   "source": [
    "Dimensionality reducton methods = PCA , AutoEncoder , FactorAnalyze , ICA , t-SNE\n",
    "\n",
    "Normalizer = MinMaxScaler\n",
    "\n",
    "Clustering = KNN - ...\n"
   ]
  },
  {
   "cell_type": "code",
   "execution_count": 3,
   "id": "f2fa6d0c-7a36-4439-857a-b68a652ec759",
   "metadata": {},
   "outputs": [],
   "source": [
    "#import Packages\n",
    "import numpy as np\n",
    "import matplotlib.pyplot as plt\n",
    "from sklearn.preprocessing import MinMaxScaler\n",
    "from sklearn.decomposition import PCA\n",
    "from sklearn.decomposition import FastICA as ICA\n",
    "from sklearn.decomposition import FactorAnalysis\n",
    "import torch\n",
    "import torch.nn as nn\n",
    "import torch.optim as optim\n",
    "from torch.utils.data import Dataset, DataLoader , TensorDataset\n",
    "from torchvision import transforms\n",
    "from numpy import unique\n",
    "from numpy import where\n",
    "from sklearn.datasets import make_classification\n",
    "from sklearn.cluster import KMeans\n",
    "from matplotlib import pyplot"
   ]
  },
  {
   "cell_type": "code",
   "execution_count": 684,
   "id": "b9869c62-41c8-4576-b584-b2429dc6ab21",
   "metadata": {},
   "outputs": [],
   "source": [
    "##Kermits Brain\n",
    "class Kermit():\n",
    "    def __init__(self,database,random_sead):\n",
    "        self.database = database\n",
    "        self.random_sead = random_sead\n",
    "        self.errors = []\n",
    "        \n",
    "   #Normalize function     \n",
    "    def Normalize(self):\n",
    "        self.data = MinMaxScaler()\n",
    "        return self.data.fit_transform(self.database)\n",
    "        \n",
    "    #PCA function         \n",
    "    def PCA(self,data,n_component):\n",
    "        self.datapca = PCA(n_components=n_component,random_state=self.random_sead)\n",
    "        return self.datapca.fit_transform(data)\n",
    "\n",
    "    #ICA function            \n",
    "    def ICA(self,data,n_component):\n",
    "        self.dataica = ICA(n_components=n_component,random_state=self.random_sead)\n",
    "        return self.dataica.fit_transform(data)\n",
    "    #FactorAnalysis function\n",
    "    def FactorAnalysis(self,data,n_component):\n",
    "        self.datafactoranalysis = FactorAnalysis(n_components=n_component,random_state=self.random_sead)\n",
    "        return self.datafactoranalysis.fit_transform(data)\n",
    "    \n",
    "    #AutoEncoder function for feature extraction\n",
    "    def AE(self,data,batch_size,n_component,shuffle=True,num_workers=0):\n",
    "            self.features = []\n",
    "            self.outputs = []\n",
    "            print(\"Creating Datasets...\")\n",
    "            class spikedataset(Dataset):\n",
    "                def __init__(self,transform=None):\n",
    "                    #dta loading\n",
    "                    self.wawes =  torch.tensor(data).type('torch.FloatTensor')\n",
    "                    self.len_samples = len(self.wawes)\n",
    "                    self.features_samples = len(self.wawes[0])\n",
    "                    self.transform = transform\n",
    "                    print(type(self.wawes))\n",
    "                \n",
    "                def __getitem__(self,index):\n",
    "                    #getting item and indexing\n",
    "                    sample = self.wawes[index]\n",
    "                    if self.transform:\n",
    "                        sample = self.transform(sample)\n",
    "                    return sample\n",
    "                        \n",
    "                    \n",
    "                def __len__(self):\n",
    "                    #number of samples\n",
    "                    return self.len_samples\n",
    "            #calling Database class   \n",
    "            gg = spikedataset()\n",
    "            dataloader = DataLoader(dataset=gg,batch_size=batch_size,shuffle=shuffle,num_workers=num_workers)\n",
    "            \n",
    "            #starting model class\n",
    "            print(\"########### Dataset Loaded! ########### \")\n",
    "            print(\"########### Creating Deep Autoencoder Model... ###########\")\n",
    "            class Autoencoder(nn.Module):\n",
    "                    def __init__(self):\n",
    "                        super().__init__()\n",
    "                        #shape of Data from N to V \n",
    "                        self.encoder = nn.Sequential(\n",
    "                            nn.Linear(48,32),\n",
    "                            nn.ReLU(),\n",
    "                            nn.Linear(32,16),\n",
    "                            nn.ReLU(),\n",
    "                            nn.Linear(16,2),\n",
    "                            \n",
    "                        )\n",
    "                        #Shape of Data from V to N\n",
    "                        self.decoder = nn.Sequential(\n",
    "                            nn.Linear(2,16),\n",
    "                            nn.ReLU(),\n",
    "                            nn.Linear(16,32),\n",
    "                            nn.ReLU(),\n",
    "                            nn.Linear(32,48),\n",
    "                            nn.Sigmoid()\n",
    "                            \n",
    "                        )\n",
    "                    \n",
    "                    \n",
    "                    def forward(self, x):\n",
    "                        encoded = self.encoder(x)\n",
    "                        decoded = self.decoder(encoded)\n",
    "                        return encoded,decoded\n",
    "                # NOTE : [-1 -> 1] -> tanh function\n",
    "            print(\"########### Model Created ###########\")\n",
    "            model = Autoencoder()\n",
    "            criterion = nn.MSELoss()\n",
    "            optimizer = optim.Adam(model.parameters(),lr=1e-3) #weight_decay=1e-5\n",
    "            num_epochs = 60\n",
    "            print(\"########### Start Training ... ########### \")\n",
    "            for epoch in range(num_epochs):\n",
    "                for (step,spikes) in enumerate(dataloader):\n",
    "                    recon_encod,recon_decode = model(spikes)\n",
    "                    loss = criterion(recon_decode,spikes)\n",
    "                    optimizer.zero_grad()\n",
    "                    loss.backward()\n",
    "                    optimizer.step()\n",
    "                    \n",
    "                print(f'Epochs: {epoch+1}, Loss: {loss.item():.4f}')\n",
    "                self.outputs.append((epoch,spikes.detach().numpy(),recon_decode.detach().numpy()))\n",
    "                self.features.append((epoch,recon_encod.detach().numpy()))\n",
    "            return self.outputs , self.features\n",
    "        \n",
    "    #KNN Fucnction with Distance from Centeroids\n",
    "    def KNN(self,data,k_max_number):\n",
    "        \n",
    "        for i in range(k_max_number):\n",
    "                X = data\n",
    "                model = KMeans(n_clusters=i+1)\n",
    "                # fit the model\n",
    "                model.fit(X)\n",
    "                # assign a cluster to each example\n",
    "                yhat = model.predict(X)\n",
    "                # retrieve unique clusters\n",
    "                clusters = unique(yhat)\n",
    "                cent = model.cluster_centers_\n",
    "                \n",
    "                error=[]\n",
    "                \n",
    "            \n",
    "                for ii in clusters:\n",
    "                    for i in range(len(zz[yhat==ii])):\n",
    "                        temp = []\n",
    "                        gg =(zz[yhat==ii][i][0]-cent[ii][0])**2 + (zz[yhat==ii][i][1]-cent[ii][1])**2\n",
    "                        temp.append(gg)\n",
    "                        \n",
    "                    error.append(np.sum(temp))\n",
    "                #print(np.sum(error))\n",
    "                self.errors.append(np.sum(error))\n",
    "        print(f'Number of Neurons: {np.argmin(self.errors)+1}')\n",
    "                \n",
    "        "
   ]
  },
  {
   "cell_type": "code",
   "execution_count": 9,
   "id": "719ab48c-6299-4ca3-af10-57685d35e74d",
   "metadata": {},
   "outputs": [],
   "source": [
    "#loading Data\n",
    "session1wf=np.load(\"Sample_data.npy\")"
   ]
  },
  {
   "cell_type": "code",
   "execution_count": 687,
   "id": "34532871-ac12-4c07-b6ac-ca0fc42221da",
   "metadata": {},
   "outputs": [],
   "source": [
    "#setting Brain!\n",
    "brainkermit=Kermit(session1wf,42)"
   ]
  },
  {
   "cell_type": "code",
   "execution_count": 688,
   "id": "904bf5bd-559a-4c80-a9cc-18645534a8f0",
   "metadata": {},
   "outputs": [],
   "source": [
    "#normalize data\n",
    "norm = brainkermit.Normalize()"
   ]
  },
  {
   "cell_type": "code",
   "execution_count": 689,
   "id": "4ececd38-b42e-4d46-b800-1dc741ee0b1d",
   "metadata": {},
   "outputs": [
    {
     "name": "stdout",
     "output_type": "stream",
     "text": [
      "Creating Datasets...\n",
      "<class 'torch.Tensor'>\n",
      "########### Dataset Loaded! ########### \n",
      "########### Creating Deep Autoencoder Model... ###########\n",
      "########### Model Created ###########\n",
      "########### Start Training ... ########### \n",
      "Epochs: 1, Loss: 0.0333\n",
      "Epochs: 2, Loss: 0.0332\n",
      "Epochs: 3, Loss: 0.0331\n",
      "Epochs: 4, Loss: 0.0330\n",
      "Epochs: 5, Loss: 0.0329\n",
      "Epochs: 6, Loss: 0.0328\n",
      "Epochs: 7, Loss: 0.0327\n",
      "Epochs: 8, Loss: 0.0326\n",
      "Epochs: 9, Loss: 0.0325\n",
      "Epochs: 10, Loss: 0.0324\n",
      "Epochs: 11, Loss: 0.0323\n",
      "Epochs: 12, Loss: 0.0322\n",
      "Epochs: 13, Loss: 0.0321\n",
      "Epochs: 14, Loss: 0.0320\n",
      "Epochs: 15, Loss: 0.0318\n",
      "Epochs: 16, Loss: 0.0317\n",
      "Epochs: 17, Loss: 0.0316\n",
      "Epochs: 18, Loss: 0.0315\n",
      "Epochs: 19, Loss: 0.0313\n",
      "Epochs: 20, Loss: 0.0312\n",
      "Epochs: 21, Loss: 0.0310\n",
      "Epochs: 22, Loss: 0.0309\n",
      "Epochs: 23, Loss: 0.0308\n",
      "Epochs: 24, Loss: 0.0306\n",
      "Epochs: 25, Loss: 0.0304\n",
      "Epochs: 26, Loss: 0.0303\n",
      "Epochs: 27, Loss: 0.0301\n",
      "Epochs: 28, Loss: 0.0299\n",
      "Epochs: 29, Loss: 0.0297\n",
      "Epochs: 30, Loss: 0.0295\n",
      "Epochs: 31, Loss: 0.0293\n",
      "Epochs: 32, Loss: 0.0291\n",
      "Epochs: 33, Loss: 0.0289\n",
      "Epochs: 34, Loss: 0.0287\n",
      "Epochs: 35, Loss: 0.0285\n",
      "Epochs: 36, Loss: 0.0283\n",
      "Epochs: 37, Loss: 0.0280\n",
      "Epochs: 38, Loss: 0.0278\n",
      "Epochs: 39, Loss: 0.0276\n",
      "Epochs: 40, Loss: 0.0273\n",
      "Epochs: 41, Loss: 0.0270\n",
      "Epochs: 42, Loss: 0.0268\n",
      "Epochs: 43, Loss: 0.0265\n",
      "Epochs: 44, Loss: 0.0262\n",
      "Epochs: 45, Loss: 0.0259\n",
      "Epochs: 46, Loss: 0.0255\n",
      "Epochs: 47, Loss: 0.0252\n",
      "Epochs: 48, Loss: 0.0249\n",
      "Epochs: 49, Loss: 0.0246\n",
      "Epochs: 50, Loss: 0.0243\n",
      "Epochs: 51, Loss: 0.0240\n",
      "Epochs: 52, Loss: 0.0237\n",
      "Epochs: 53, Loss: 0.0234\n",
      "Epochs: 54, Loss: 0.0231\n",
      "Epochs: 55, Loss: 0.0228\n",
      "Epochs: 56, Loss: 0.0226\n",
      "Epochs: 57, Loss: 0.0223\n",
      "Epochs: 58, Loss: 0.0221\n",
      "Epochs: 59, Loss: 0.0219\n",
      "Epochs: 60, Loss: 0.0216\n"
     ]
    }
   ],
   "source": [
    "#reconstructed Outputs and extracted features\n",
    "outputs,features = brainkermit.AE(norm,300)"
   ]
  },
  {
   "cell_type": "code",
   "execution_count": 690,
   "id": "c4f76bb1-20e6-4129-becc-cea1e54a756c",
   "metadata": {},
   "outputs": [],
   "source": [
    "#calling features\n",
    "zz=features[59][1]"
   ]
  },
  {
   "cell_type": "code",
   "execution_count": 691,
   "id": "e1bc9e27-11bd-43e5-b40b-3b974d00971b",
   "metadata": {},
   "outputs": [
    {
     "data": {
      "image/png": "[encoded data removed]",
      "text/plain": [
       "<Figure size 432x288 with 1 Axes>"
      ]
     },
     "metadata": {
      "needs_background": "light"
     },
     "output_type": "display_data"
    }
   ],
   "source": [
    "#plotting Features\n",
    "for i in range(300):\n",
    "    plt.plot(zz[i][0],zz[i][1],marker=\"o\")"
   ]
  },
  {
   "cell_type": "code",
   "execution_count": 676,
   "id": "a65fd2a5-14a9-478c-a2eb-740caa8a616e",
   "metadata": {},
   "outputs": [],
   "source": [
    "#calling orginal data! Look at 1 index , it means orginal ! if it was 2 => showed reconstructed datas\n",
    "ffff=outputs[59][1]"
   ]
  },
  {
   "cell_type": "code",
   "execution_count": 677,
   "id": "3eaca5a6-d29b-454a-9953-5e0950b3673b",
   "metadata": {},
   "outputs": [],
   "source": [
    "#extracting Features of orginal data with PCA\n",
    "pcc = PCA(n_components=2)\n",
    "pcc.fit(ffff)\n",
    "xnew = pcc.transform(ffff)"
   ]
  },
  {
   "cell_type": "code",
   "execution_count": 678,
   "id": "d7efed7b-38cb-40e7-8f1d-65304844bca3",
   "metadata": {},
   "outputs": [
    {
     "data": {
      "image/png": "[encoded data removed]",
      "text/plain": [
       "<Figure size 432x288 with 1 Axes>"
      ]
     },
     "metadata": {
      "needs_background": "light"
     },
     "output_type": "display_data"
    }
   ],
   "source": [
    "for i in range(300):\n",
    "    plt.plot(xnew[i][0],xnew[i][1],marker='o')\n"
   ]
  },
  {
   "cell_type": "code",
   "execution_count": 692,
   "id": "3c0fb033-fd10-4eeb-8699-a53fe971847b",
   "metadata": {},
   "outputs": [
    {
     "name": "stdout",
     "output_type": "stream",
     "text": [
      "Number of Neurons: 2\n"
     ]
    }
   ],
   "source": [
    "#runnig KNN clustering with distance error\n",
    "brainkermit.KNN(zz,3)"
   ]
  },
  {
   "cell_type": "code",
   "execution_count": 693,
   "id": "47e394c1-e7d8-4cf6-b9a5-f4a8a3e70b18",
   "metadata": {},
   "outputs": [
    {
     "data": {
      "text/plain": [
       "[0.3136910748678057, 0.01344316593524475, 0.022145716792562276]"
      ]
     },
     "execution_count": 693,
     "metadata": {},
     "output_type": "execute_result"
    }
   ],
   "source": [
    "#printing Error for diffrernt K!\n",
    "brainkermit.errors"
   ]
  }
 ],
 "metadata": {
  "kernelspec": {
   "display_name": "Python 3",
   "language": "python",
   "name": "python3"
  },
  "language_info": {
   "codemirror_mode": {
    "name": "ipython",
    "version": 3
   },
   "file_extension": ".py",
   "mimetype": "text/x-python",
   "name": "python",
   "nbconvert_exporter": "python",
   "pygments_lexer": "ipython3",
   "version": "3.9.5"
  }
 },
 "nbformat": 4,
 "nbformat_minor": 5
}
